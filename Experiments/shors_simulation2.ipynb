{
 "cells": [
  {
   "cell_type": "code",
   "execution_count": 2,
   "metadata": {},
   "outputs": [
    {
     "ename": "ModuleNotFoundError",
     "evalue": "No module named 'qiskit'",
     "output_type": "error",
     "traceback": [
      "\u001b[0;31m---------------------------------------------------------------------------\u001b[0m",
      "\u001b[0;31mModuleNotFoundError\u001b[0m                       Traceback (most recent call last)",
      "\u001b[1;32m/home/reece/Desktop/Github/Emulator/Experiments/shors_simulation2.ipynb Cell 1\u001b[0m in \u001b[0;36m<cell line: 1>\u001b[0;34m()\u001b[0m\n\u001b[0;32m----> <a href='vscode-notebook-cell:/home/reece/Desktop/Github/Emulator/Experiments/shors_simulation2.ipynb#W0sZmlsZQ%3D%3D?line=0'>1</a>\u001b[0m \u001b[39mfrom\u001b[39;00m \u001b[39mqiskit\u001b[39;00m \u001b[39mimport\u001b[39;00m IBMQ\n\u001b[1;32m      <a href='vscode-notebook-cell:/home/reece/Desktop/Github/Emulator/Experiments/shors_simulation2.ipynb#W0sZmlsZQ%3D%3D?line=1'>2</a>\u001b[0m \u001b[39mfrom\u001b[39;00m \u001b[39mqiskit\u001b[39;00m\u001b[39m.\u001b[39;00m\u001b[39mutils\u001b[39;00m \u001b[39mimport\u001b[39;00m QuantumInstance\n\u001b[1;32m      <a href='vscode-notebook-cell:/home/reece/Desktop/Github/Emulator/Experiments/shors_simulation2.ipynb#W0sZmlsZQ%3D%3D?line=2'>3</a>\u001b[0m \u001b[39mfrom\u001b[39;00m \u001b[39mqiskit\u001b[39;00m\u001b[39m.\u001b[39;00m\u001b[39malgorithms\u001b[39;00m \u001b[39mimport\u001b[39;00m Shor\n",
      "\u001b[0;31mModuleNotFoundError\u001b[0m: No module named 'qiskit'"
     ]
    }
   ],
   "source": [
    "from qiskit import IBMQ\n",
    "from qiskit.utils import QuantumInstance\n",
    "from qiskit.algorithms import Shor\n",
    "import time"
   ]
  },
  {
   "cell_type": "code",
   "execution_count": null,
   "metadata": {},
   "outputs": [],
   "source": [
    "IBMQ.enable_account('99c0e0cf0828e07052aa037e95f66583b58e649173193b0743e9eeb3458cb4ec5ce2980423e36d2a13ca1a9e6cc1ac42c68799865ec41ea58d89964c662a1273') # Enter your API token here\n",
    "provider = IBMQ.get_provider(hub='ibm-q')\n",
    "\n",
    "backend = provider.get_backend('ibmq_qasm_simulator') # Specifies the quantum device"
   ]
  },
  {
   "cell_type": "code",
   "execution_count": null,
   "metadata": {},
   "outputs": [],
   "source": [
    "N =  67 * 127   # 8509\n",
    "a = 38\n",
    "shots = 10"
   ]
  },
  {
   "cell_type": "code",
   "execution_count": null,
   "metadata": {},
   "outputs": [],
   "source": [
    "factors = Shor(QuantumInstance(backend, shots=shots, skip_qobj_validation=False))\n",
    "\n",
    "start_time = time.time()\n",
    "result_dict = factors.factor(N=13*17, a=2) # Where N is the integer to be factored\n",
    "execution_time = time.time() - start_time\n",
    "result = result_dict.factors\n",
    "\n",
    "print(result)\n",
    "print(\"Time:\", execution_time)\n",
    "print(\"Average Time:\", execution_time/shots)"
   ]
  },
  {
   "cell_type": "code",
   "execution_count": null,
   "metadata": {},
   "outputs": [],
   "source": [
    "N = 179 * 239   # 42781\n",
    "a = 10\n",
    "shots = 1"
   ]
  },
  {
   "cell_type": "code",
   "execution_count": null,
   "metadata": {},
   "outputs": [],
   "source": [
    "factors = Shor(QuantumInstance(backend, shots=shots, skip_qobj_validation=False))\n",
    "\n",
    "start_time = time.time()\n",
    "result_dict = factors.factor(N=13*17, a=2) # Where N is the integer to be factored\n",
    "execution_time = time.time() - start_time\n",
    "result = result_dict.factors\n",
    "\n",
    "print(result)\n",
    "print(\"Time:\", execution_time)\n",
    "print(\"Average Time:\", execution_time/shots)"
   ]
  }
 ],
 "metadata": {
  "kernelspec": {
   "display_name": "Python 3.8.10 64-bit",
   "language": "python",
   "name": "python3"
  },
  "language_info": {
   "codemirror_mode": {
    "name": "ipython",
    "version": 3
   },
   "file_extension": ".py",
   "mimetype": "text/x-python",
   "name": "python",
   "nbconvert_exporter": "python",
   "pygments_lexer": "ipython3",
   "version": "3.8.10"
  },
  "orig_nbformat": 4,
  "vscode": {
   "interpreter": {
    "hash": "31f2aee4e71d21fbe5cf8b01ff0e069b9275f58929596ceb00d14d90e3e16cd6"
   }
  }
 },
 "nbformat": 4,
 "nbformat_minor": 2
}
