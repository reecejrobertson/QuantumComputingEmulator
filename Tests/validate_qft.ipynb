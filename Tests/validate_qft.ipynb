{
 "cells": [
  {
   "cell_type": "code",
   "execution_count": 1,
   "metadata": {},
   "outputs": [],
   "source": [
    "import sys\n",
    "sys.path.append('../../Emulator')\n",
    "sys.path.insert(0, '../../../ACME/intel-qs/build/lib') # Change this to match your installation location.\n",
    "import intelqs_py as simulator\n",
    "import emulator\n",
    "import numpy as np"
   ]
  },
  {
   "cell_type": "code",
   "execution_count": 3,
   "metadata": {},
   "outputs": [
    {
     "name": "stdout",
     "output_type": "stream",
     "text": [
      "[[1.000000e+00+0.j 0.000000e+00+0.j]\n",
      " [0.000000e+00+0.j 6.123234e-17+1.j]]\n"
     ]
    }
   ],
   "source": [
    "# Define the rotation Z matrix needed for the 2 qubit QFT.\n",
    "# We need to define our own because the built-in ApplyCRotationZ\n",
    "#   function casts complex values to real values.\n",
    "Z = np.zeros((2,2), dtype=complex)\n",
    "Z[0, 0] = 1\n",
    "Z[1, 1] = np.exp(1j*np.pi/2)\n",
    "print(Z)"
   ]
  },
  {
   "cell_type": "code",
   "execution_count": 4,
   "metadata": {},
   "outputs": [
    {
     "name": "stdout",
     "output_type": "stream",
     "text": [
      "Simulator Start State:\t [1.+0.j 0.+0.j 0.+0.j 0.+0.j]\n",
      "Emulator Start State:\t [1.+0.j 0.+0.j 0.+0.j 0.+0.j]\n",
      "\n",
      "Simulator End State:\t [0.5+0.j 0.5+0.j 0.5+0.j 0.5+0.j]\n",
      "Emulator End State:\t [0.5+0.j 0.5+0.j 0.5+0.j 0.5+0.j]\n",
      "True\n"
     ]
    }
   ],
   "source": [
    "# Set the index of the starting state vector to set to 1.\n",
    "index = 0\n",
    "\n",
    "# Define a 2 qubit quantum register of the given state.\n",
    "num_qubits = 2\n",
    "psi = simulator.QubitRegister(num_qubits, 'base', index, 0)\n",
    "\n",
    "# Extract and print the starting state for the simulator.\n",
    "sim_start = []\n",
    "for i in range(4):\n",
    "    sim_start.append(psi[i])\n",
    "sim_start = np.array(sim_start, dtype=complex)\n",
    "print('Simulator Start State:\\t', sim_start)\n",
    "\n",
    "# Initialize and print the starting state of the emulator for comparison.\n",
    "em_start = np.zeros(4, dtype=complex)\n",
    "em_start[index] = 1\n",
    "print('Emulator Start State:\\t', em_start)\n",
    "print()\n",
    "\n",
    "# Perform the QFT on the simulator.\n",
    "psi.ApplyHadamard(1)\n",
    "psi.ApplyControlled1QubitGate(0, 1, Z)\n",
    "psi.ApplyHadamard(0)\n",
    "psi.ApplySwap(1, 0)\n",
    "\n",
    "# Extract and print the simulator state after performing the QFT.\n",
    "sim_end = []\n",
    "for i in range(4):\n",
    "    sim_end.append(psi[i])\n",
    "sim_end = np.array(sim_end, dtype=complex)\n",
    "print('Simulator End State:\\t', sim_end)\n",
    "\n",
    "# Perform the QFT on the emulator and print the resulting state.\n",
    "em_end = emulator.qft(em_start)\n",
    "print('Emulator End State:\\t', em_end)\n",
    "\n",
    "# Ensure that the ending states of both metods are the same.\n",
    "print(np.allclose(em_end, sim_end))"
   ]
  },
  {
   "cell_type": "code",
   "execution_count": 5,
   "metadata": {},
   "outputs": [
    {
     "name": "stdout",
     "output_type": "stream",
     "text": [
      "Simulator Start State:\t [0.+0.j 1.+0.j 0.+0.j 0.+0.j]\n",
      "Emulator Start State:\t [0.+0.j 1.+0.j 0.+0.j 0.+0.j]\n",
      "\n",
      "Simulator End State:\t [ 5.000000e-01+0.j   3.061617e-17+0.5j -5.000000e-01+0.j\n",
      " -3.061617e-17-0.5j]\n",
      "Emulator End State:\t [ 0.5+0.j   0. +0.5j -0.5+0.j   0. -0.5j]\n",
      "True\n"
     ]
    }
   ],
   "source": [
    "# Set the index of the starting state vector to set to 1.\n",
    "index = 1\n",
    "\n",
    "# Define a 2 qubit quantum register of the given state.\n",
    "num_qubits = 2\n",
    "psi = simulator.QubitRegister(num_qubits, 'base', index, 0)\n",
    "\n",
    "# Extract and print the starting state for the simulator.\n",
    "sim_start = []\n",
    "for i in range(4):\n",
    "    sim_start.append(psi[i])\n",
    "sim_start = np.array(sim_start, dtype=complex)\n",
    "print('Simulator Start State:\\t', sim_start)\n",
    "\n",
    "# Initialize and print the starting state of the emulator for comparison.\n",
    "em_start = np.zeros(4, dtype=complex)\n",
    "em_start[index] = 1\n",
    "print('Emulator Start State:\\t', em_start)\n",
    "print()\n",
    "\n",
    "# Perform the QFT on the simulator.\n",
    "psi.ApplyHadamard(1)\n",
    "psi.ApplyControlled1QubitGate(0, 1, Z)\n",
    "psi.ApplyHadamard(0)\n",
    "psi.ApplySwap(1, 0)\n",
    "\n",
    "# Extract and print the simulator state after performing the QFT.\n",
    "sim_end = []\n",
    "for i in range(4):\n",
    "    sim_end.append(psi[i])\n",
    "sim_end = np.array(sim_end, dtype=complex)\n",
    "print('Simulator End State:\\t', sim_end)\n",
    "\n",
    "# Perform the QFT on the emulator and print the resulting state.\n",
    "em_end = emulator.qft(em_start)\n",
    "print('Emulator End State:\\t', em_end)\n",
    "\n",
    "# Ensure that the ending states of both metods are the same.\n",
    "print(np.allclose(em_end, sim_end))"
   ]
  },
  {
   "cell_type": "code",
   "execution_count": 6,
   "metadata": {},
   "outputs": [
    {
     "name": "stdout",
     "output_type": "stream",
     "text": [
      "Simulator Start State:\t [0.+0.j 0.+0.j 1.+0.j 0.+0.j]\n",
      "Emulator Start State:\t [0.+0.j 0.+0.j 1.+0.j 0.+0.j]\n",
      "\n",
      "Simulator End State:\t [ 0.5+0.j -0.5+0.j  0.5+0.j -0.5+0.j]\n",
      "Emulator End State:\t [ 0.5+0.j -0.5+0.j  0.5+0.j -0.5+0.j]\n",
      "True\n"
     ]
    }
   ],
   "source": [
    "# Set the index of the starting state vector to set to 1.\n",
    "index = 2\n",
    "\n",
    "# Define a 2 qubit quantum register of the given state.\n",
    "num_qubits = 2\n",
    "psi = simulator.QubitRegister(num_qubits, 'base', index, 0)\n",
    "\n",
    "# Extract and print the starting state for the simulator.\n",
    "sim_start = []\n",
    "for i in range(4):\n",
    "    sim_start.append(psi[i])\n",
    "sim_start = np.array(sim_start, dtype=complex)\n",
    "print('Simulator Start State:\\t', sim_start)\n",
    "\n",
    "# Initialize and print the starting state of the emulator for comparison.\n",
    "em_start = np.zeros(4, dtype=complex)\n",
    "em_start[index] = 1\n",
    "print('Emulator Start State:\\t', em_start)\n",
    "print()\n",
    "\n",
    "# Perform the QFT on the simulator.\n",
    "psi.ApplyHadamard(1)\n",
    "psi.ApplyControlled1QubitGate(0, 1, Z)\n",
    "psi.ApplyHadamard(0)\n",
    "psi.ApplySwap(1, 0)\n",
    "\n",
    "# Extract and print the simulator state after performing the QFT.\n",
    "sim_end = []\n",
    "for i in range(4):\n",
    "    sim_end.append(psi[i])\n",
    "sim_end = np.array(sim_end, dtype=complex)\n",
    "print('Simulator End State:\\t', sim_end)\n",
    "\n",
    "# Perform the QFT on the emulator and print the resulting state.\n",
    "em_end = emulator.qft(em_start)\n",
    "print('Emulator End State:\\t', em_end)\n",
    "\n",
    "# Ensure that the ending states of both metods are the same.\n",
    "print(np.allclose(em_end, sim_end))"
   ]
  },
  {
   "cell_type": "code",
   "execution_count": 7,
   "metadata": {},
   "outputs": [
    {
     "name": "stdout",
     "output_type": "stream",
     "text": [
      "Simulator Start State:\t [0.+0.j 0.+0.j 0.+0.j 1.+0.j]\n",
      "Emulator Start State:\t [0.+0.j 0.+0.j 0.+0.j 1.+0.j]\n",
      "\n",
      "Simulator End State:\t [ 5.000000e-01+0.j  -3.061617e-17-0.5j -5.000000e-01+0.j\n",
      "  3.061617e-17+0.5j]\n",
      "Emulator End State:\t [ 0.5+0.j   0. -0.5j -0.5+0.j   0. +0.5j]\n",
      "True\n"
     ]
    }
   ],
   "source": [
    "# Set the index of the starting state vector to set to 1.\n",
    "index = 3\n",
    "\n",
    "# Define a 2 qubit quantum register of the given state.\n",
    "num_qubits = 2\n",
    "psi = simulator.QubitRegister(num_qubits, 'base', index, 0)\n",
    "\n",
    "# Extract and print the starting state for the simulator.\n",
    "sim_start = []\n",
    "for i in range(4):\n",
    "    sim_start.append(psi[i])\n",
    "sim_start = np.array(sim_start, dtype=complex)\n",
    "print('Simulator Start State:\\t', sim_start)\n",
    "\n",
    "# Initialize and print the starting state of the emulator for comparison.\n",
    "em_start = np.zeros(4, dtype=complex)\n",
    "em_start[index] = 1\n",
    "print('Emulator Start State:\\t', em_start)\n",
    "print()\n",
    "\n",
    "# Perform the QFT on the simulator.\n",
    "psi.ApplyHadamard(1)\n",
    "psi.ApplyControlled1QubitGate(0, 1, Z)\n",
    "psi.ApplyHadamard(0)\n",
    "psi.ApplySwap(1, 0)\n",
    "\n",
    "# Extract and print the simulator state after performing the QFT.\n",
    "sim_end = []\n",
    "for i in range(4):\n",
    "    sim_end.append(psi[i])\n",
    "sim_end = np.array(sim_end, dtype=complex)\n",
    "print('Simulator End State:\\t', sim_end)\n",
    "\n",
    "# Perform the QFT on the emulator and print the resulting state.\n",
    "em_end = emulator.qft(em_start)\n",
    "print('Emulator End State:\\t', em_end)\n",
    "\n",
    "# Ensure that the ending states of both metods are the same.\n",
    "print(np.allclose(em_end, sim_end))"
   ]
  },
  {
   "cell_type": "code",
   "execution_count": 8,
   "metadata": {},
   "outputs": [
    {
     "name": "stdout",
     "output_type": "stream",
     "text": [
      "Start State:\t [ 0.13083368-0.1215961j   0.31958687+0.45552427j -0.18127856-0.62636768j\n",
      "  0.41721912-0.24328712j]\n",
      "\n",
      "Simulator End State:\t [ 0.34318055-0.26786331j -0.19334958+0.20356967j -0.39362544-0.48010047j\n",
      "  0.50546182+0.30120192j]\n",
      "Emulator End State:\t [ 0.34318055-0.26786331j -0.19334958+0.20356967j -0.39362544-0.48010047j\n",
      "  0.50546182+0.30120192j]\n",
      "True\n"
     ]
    }
   ],
   "source": [
    "# Define a 2 qubit quantum register of the given state.\n",
    "num_qubits = 2\n",
    "psi = simulator.QubitRegister(num_qubits, 'base', index, 0)\n",
    "\n",
    "# Create a random number generator and initialize a random starting state.\n",
    "rng = simulator.RandomNumberGenerator()\n",
    "seed = np.random.randint(0, 10000, 1)\n",
    "rng.SetSeedStreamPtrs(seed)\n",
    "psi.SetRngPtr(rng)\n",
    "psi.Initialize('rand', 0)\n",
    "\n",
    "# Extract and print the starting state for the simulator.\n",
    "# In this case, we use this vector as the starting state for the emulator.\n",
    "start = []\n",
    "for i in range(4):\n",
    "    start.append(psi[i])\n",
    "start = np.array(start, dtype=complex)\n",
    "print('Start State:\\t', start)\n",
    "print()\n",
    "\n",
    "# Perform the QFT on the simulator.\n",
    "psi.ApplyHadamard(1)\n",
    "psi.ApplyControlled1QubitGate(0, 1, Z)\n",
    "psi.ApplyHadamard(0)\n",
    "psi.ApplySwap(1, 0)\n",
    "\n",
    "# Extract and print the simulator state after performing the QFT.\n",
    "sim_end = []\n",
    "for i in range(4):\n",
    "    sim_end.append(psi[i])\n",
    "sim_end = np.array(sim_end, dtype=complex)\n",
    "print('Simulator End State:\\t', sim_end)\n",
    "\n",
    "# Perform the QFT on the emulator and print the resulting state.\n",
    "em_end = emulator.qft(start)\n",
    "print('Emulator End State:\\t', em_end)\n",
    "\n",
    "# Ensure that the ending states of both metods are the same.\n",
    "print(np.allclose(em_end, sim_end))"
   ]
  }
 ],
 "metadata": {
  "interpreter": {
   "hash": "5eb68a48e29e152e025f867c1d7c98b8bbea850c19dcdd55ec2ecec0f79d9b55"
  },
  "kernelspec": {
   "display_name": "Python 3.8.12 64-bit ('base': conda)",
   "language": "python",
   "name": "python3"
  },
  "language_info": {
   "codemirror_mode": {
    "name": "ipython",
    "version": 3
   },
   "file_extension": ".py",
   "mimetype": "text/x-python",
   "name": "python",
   "nbconvert_exporter": "python",
   "pygments_lexer": "ipython3",
   "version": "3.8.12"
  },
  "orig_nbformat": 4
 },
 "nbformat": 4,
 "nbformat_minor": 2
}
