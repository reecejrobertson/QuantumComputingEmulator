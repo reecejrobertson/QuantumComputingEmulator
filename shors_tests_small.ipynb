{
 "cells": [
  {
   "cell_type": "markdown",
   "metadata": {},
   "source": [
    "# Examples of Shor's Algorithm"
   ]
  },
  {
   "cell_type": "code",
   "execution_count": 1,
   "metadata": {},
   "outputs": [],
   "source": [
    "import time\n",
    "import emulator\n",
    "import numpy as np\n",
    "from math import gcd"
   ]
  },
  {
   "cell_type": "code",
   "execution_count": 2,
   "metadata": {},
   "outputs": [
    {
     "name": "stdout",
     "output_type": "stream",
     "text": [
      "0: 1\n",
      "1: 2\n",
      "2: 4\n",
      "3: 8\n",
      "4: 16\n",
      "5: 32\n",
      "6: 64\n",
      "7: 128\n",
      "8: 256\n",
      "9: 512\n",
      "10: 1024\n",
      "11: 2048\n",
      "12: 4096\n",
      "13: 8192\n",
      "14: 16384\n",
      "15: 32768\n",
      "16: 65536\n",
      "17: 131072\n",
      "18: 262144\n",
      "19: 524288\n"
     ]
    }
   ],
   "source": [
    "# Compute the powers of 2 from 0 to 20.\n",
    "# Observe that 2^14 = 16364 > 8509,\n",
    "# and that     2^16 = 65536 > 42781.\n",
    "# These numbers give the value for n in both experiments.\n",
    "for i in range(20):\n",
    "    print(str(i) + ': ' + str(2**i))"
   ]
  },
  {
   "cell_type": "markdown",
   "metadata": {},
   "source": [
    "## A Function to Demonstrate Shor's Algorithm."
   ]
  },
  {
   "cell_type": "code",
   "execution_count": 3,
   "metadata": {},
   "outputs": [],
   "source": [
    "def demo_shors(a, N, m, n, mults=10, iters=1000, display=False):\n",
    "    \"\"\"\n",
    "    Demonstrate Shor's Algorithm with a given choice of a, N, m, n.\n",
    "    Computes a^x mod N for all x in the interval [0, 2^m].\n",
    "\n",
    "    Args:\n",
    "        a (int): The number to use for factoring.\n",
    "        N (int): The number to factor.\n",
    "        m (int): The number of qubits to use on the counting register.\n",
    "        n (int): The number of quibts to use on the storage register.\n",
    "                 Must be chosen such that 2^n > N to guarentee success.\n",
    "        mults (int, optional): The number of multiples to take the estimate \n",
    "                               of the period to. Defaults to 10.\n",
    "        iters (int, optional): The number of times to repeat the process.\n",
    "                               Defaults to 1000.\n",
    "        display (bool, optional): Prints a detailed analysis of each iteration\n",
    "                                  if True. Defaults to False.\n",
    "    \"\"\"\n",
    "    \n",
    "    # Define variables to hold the time and accuracy.\n",
    "    times = []\n",
    "    accuracy = 0\n",
    "    \n",
    "    # Repeat the following experiment iters times:\n",
    "    for i in range(iters):\n",
    "        \n",
    "        # Run and time Shor's algorithm to estimate the period of a^x mod N.\n",
    "        start_time = time.time()\n",
    "        r = emulator.shors(N, a, m, n)\n",
    "        times.append(time.time() - start_time)\n",
    "        \n",
    "        # Set the initial factor guesses to 1, 1, and success = False.\n",
    "        guesses = np.array([1, 1])\n",
    "        success = False\n",
    "        \n",
    "        # Compute a few small multiples of r.\n",
    "        for j in range(mults):\n",
    "            mult = j + 1\n",
    "            R = r * mult\n",
    "            \n",
    "            # If the R (the power of r) is even:\n",
    "            if R % 2 == 0:\n",
    "                \n",
    "                # Get gcd(a^(R/2)+1, N) and gcd(a^(R/2)-1, N) to guess at factors of N.\n",
    "                guesses = np.array([gcd(a**(R//2) - 1, N), gcd(a**(R//2) + 1, N)])\n",
    "                \n",
    "                # If both guesses are proper factors of N:\n",
    "                if (guesses[0] != 1 and N % guesses[0] == 0 and\n",
    "                   guesses[1] != 1 and N % guesses[1] == 0):\n",
    "                    \n",
    "                    # Count the trial as a success.\n",
    "                    accuracy += 1\n",
    "                    success = True\n",
    "                    break\n",
    "        \n",
    "        # Give a detailed account of each trial if requested.\n",
    "        if display:\n",
    "            print('r:' + str(r) + ',\\tR:' + str(R) + ',\\tmult:' + str(mult) +\n",
    "                  ', \\tGuesses:' + str(guesses) + ',\\tPass: ' + str(success))\n",
    "\n",
    "    # Print the total accuracy and the average time across all trials.\n",
    "    print('Accuracy:    ', accuracy/iters)\n",
    "    print('Average time:', sum(times)/iters)"
   ]
  },
  {
   "cell_type": "markdown",
   "metadata": {},
   "source": [
    "## Experiment 1: N = 8509"
   ]
  },
  {
   "cell_type": "code",
   "execution_count": 4,
   "metadata": {},
   "outputs": [
    {
     "name": "stdout",
     "output_type": "stream",
     "text": [
      "19: 33\n",
      "20: 66\n",
      "22: 99\n",
      "37: 9\n",
      "38: 42\n",
      "64: 77\n",
      "66: 42\n"
     ]
    }
   ],
   "source": [
    "# Define N.\n",
    "N =  67 * 127   # 8509\n",
    "n = 14  # Again, 2^14 = 16364 > 8509.\n",
    "\n",
    "# Solve the problem classically to observe the periods of each number.\n",
    "# Print those with relatively small periods. We will use this to choose our a.\n",
    "for a in range(2, 67):\n",
    "    for i in range(1, 100):\n",
    "        if (a**i)%N == 1:\n",
    "            print(str(a) + ': ' + str(i))\n",
    "            break"
   ]
  },
  {
   "cell_type": "markdown",
   "metadata": {},
   "source": [
    "### Experiment 1.1: a = 38"
   ]
  },
  {
   "cell_type": "code",
   "execution_count": 5,
   "metadata": {},
   "outputs": [],
   "source": [
    "a = 38  # 38 is the first number with the smallest even period."
   ]
  },
  {
   "cell_type": "code",
   "execution_count": 6,
   "metadata": {},
   "outputs": [
    {
     "name": "stdout",
     "output_type": "stream",
     "text": [
      "m = 1\n",
      "Accuracy:    0.0\n",
      "Average time: 0.0005425920486450195\n",
      "m = 2\n",
      "Accuracy:    0.0\n",
      "Average time: 0.00041210007667541503\n",
      "m = 3\n",
      "Accuracy:    0.0\n",
      "Average time: 0.0004290504455566406\n",
      "m = 4\n",
      "Accuracy:    0.0\n",
      "Average time: 0.0004371492862701416\n",
      "m = 5\n",
      "Accuracy:    0.0\n",
      "Average time: 0.0004876956939697266\n",
      "m = 6\n",
      "Accuracy:    0.0\n",
      "Average time: 0.0005483241081237793\n",
      "m = 7\n",
      "Accuracy:    0.0\n",
      "Average time: 0.0006627285480499267\n",
      "m = 8\n",
      "Accuracy:    0.0\n",
      "Average time: 0.0009186201095581055\n",
      "m = 9\n",
      "Accuracy:    0.0\n",
      "Average time: 0.001516678810119629\n",
      "m = 10\n",
      "Accuracy:    0.0\n",
      "Average time: 0.002077620029449463\n",
      "m = 11\n",
      "Accuracy:    0.0\n",
      "Average time: 0.0036906783580780028\n",
      "m = 12\n",
      "Accuracy:    0.0\n",
      "Average time: 0.007259555339813232\n",
      "m = 13\n",
      "Accuracy:    0.0\n",
      "Average time: 0.014090333938598633\n",
      "m = 14\n",
      "Accuracy:    0.02\n",
      "Average time: 0.02820896553993225\n",
      "m = 15\n",
      "Accuracy:    0.106\n",
      "Average time: 0.06065144896507263\n",
      "m = 16\n",
      "Accuracy:    0.341\n",
      "Average time: 0.11618712377548218\n",
      "m = 17\n",
      "Accuracy:    0.578\n",
      "Average time: 0.2336503973007202\n",
      "m = 18\n",
      "Accuracy:    0.754\n",
      "Average time: 0.47646584248542784\n",
      "m = 19\n",
      "Accuracy:    0.835\n",
      "Average time: 0.979001357793808\n",
      "m = 20\n",
      "Accuracy:    0.871\n",
      "Average time: 2.09206183218956\n"
     ]
    }
   ],
   "source": [
    "# Run Shor's algorithm for various values of m.\n",
    "# We expect to some improvement when m = n,\n",
    "# and above 90% accuracy by the time m = 2n (or before).\n",
    "for m in range(1, 21):\n",
    "    print('m =', m)\n",
    "    demo_shors(a, N, m, n)"
   ]
  },
  {
   "cell_type": "code",
   "execution_count": 7,
   "metadata": {},
   "outputs": [
    {
     "name": "stdout",
     "output_type": "stream",
     "text": [
      "r:14,\tR:42,\tmult:3, \tGuesses:[127  67],\tPass: True\n",
      "r:42,\tR:42,\tmult:1, \tGuesses:[127  67],\tPass: True\n",
      "r:21,\tR:42,\tmult:2, \tGuesses:[127  67],\tPass: True\n",
      "r:1,\tR:10,\tmult:10, \tGuesses:[1 1],\tPass: False\n",
      "r:7,\tR:42,\tmult:6, \tGuesses:[127  67],\tPass: True\n",
      "r:42,\tR:42,\tmult:1, \tGuesses:[127  67],\tPass: True\n",
      "r:21,\tR:42,\tmult:2, \tGuesses:[127  67],\tPass: True\n",
      "r:21,\tR:42,\tmult:2, \tGuesses:[127  67],\tPass: True\n",
      "r:42,\tR:42,\tmult:1, \tGuesses:[127  67],\tPass: True\n",
      "r:21,\tR:42,\tmult:2, \tGuesses:[127  67],\tPass: True\n",
      "r:1,\tR:10,\tmult:10, \tGuesses:[1 1],\tPass: False\n",
      "r:7,\tR:42,\tmult:6, \tGuesses:[127  67],\tPass: True\n",
      "r:14,\tR:42,\tmult:3, \tGuesses:[127  67],\tPass: True\n",
      "r:1673,\tR:10038,\tmult:6, \tGuesses:[127  67],\tPass: True\n",
      "r:21,\tR:42,\tmult:2, \tGuesses:[127  67],\tPass: True\n",
      "r:14,\tR:42,\tmult:3, \tGuesses:[127  67],\tPass: True\n",
      "r:21,\tR:42,\tmult:2, \tGuesses:[127  67],\tPass: True\n",
      "r:14,\tR:42,\tmult:3, \tGuesses:[127  67],\tPass: True\n",
      "r:14,\tR:42,\tmult:3, \tGuesses:[127  67],\tPass: True\n",
      "r:21,\tR:42,\tmult:2, \tGuesses:[127  67],\tPass: True\n",
      "r:8509,\tR:85090,\tmult:10, \tGuesses:[1 1],\tPass: False\n",
      "r:2,\tR:20,\tmult:10, \tGuesses:[1 1],\tPass: False\n",
      "r:3,\tR:30,\tmult:10, \tGuesses:[ 1 67],\tPass: False\n",
      "r:42,\tR:42,\tmult:1, \tGuesses:[127  67],\tPass: True\n",
      "r:42,\tR:42,\tmult:1, \tGuesses:[127  67],\tPass: True\n",
      "r:42,\tR:42,\tmult:1, \tGuesses:[127  67],\tPass: True\n",
      "r:14,\tR:42,\tmult:3, \tGuesses:[127  67],\tPass: True\n",
      "r:6,\tR:42,\tmult:7, \tGuesses:[127  67],\tPass: True\n",
      "r:7,\tR:42,\tmult:6, \tGuesses:[127  67],\tPass: True\n"
     ]
    },
    {
     "ename": "KeyboardInterrupt",
     "evalue": "",
     "output_type": "error",
     "traceback": [
      "\u001b[0;31m---------------------------------------------------------------------------\u001b[0m",
      "\u001b[0;31mKeyboardInterrupt\u001b[0m                         Traceback (most recent call last)",
      "\u001b[0;32m/tmp/ipykernel_10745/2403413280.py\u001b[0m in \u001b[0;36m<module>\u001b[0;34m\u001b[0m\n\u001b[1;32m      1\u001b[0m \u001b[0;31m# Observe the process in detail for m = 20.\u001b[0m\u001b[0;34m\u001b[0m\u001b[0;34m\u001b[0m\u001b[0;34m\u001b[0m\u001b[0m\n\u001b[1;32m      2\u001b[0m \u001b[0mm\u001b[0m \u001b[0;34m=\u001b[0m \u001b[0;36m20\u001b[0m\u001b[0;34m\u001b[0m\u001b[0;34m\u001b[0m\u001b[0m\n\u001b[0;32m----> 3\u001b[0;31m \u001b[0mdemo_shors\u001b[0m\u001b[0;34m(\u001b[0m\u001b[0ma\u001b[0m\u001b[0;34m,\u001b[0m \u001b[0mN\u001b[0m\u001b[0;34m,\u001b[0m \u001b[0mm\u001b[0m\u001b[0;34m,\u001b[0m \u001b[0mn\u001b[0m\u001b[0;34m,\u001b[0m \u001b[0miters\u001b[0m\u001b[0;34m=\u001b[0m\u001b[0;36m100\u001b[0m\u001b[0;34m,\u001b[0m \u001b[0mdisplay\u001b[0m\u001b[0;34m=\u001b[0m\u001b[0;32mTrue\u001b[0m\u001b[0;34m)\u001b[0m\u001b[0;34m\u001b[0m\u001b[0;34m\u001b[0m\u001b[0m\n\u001b[0m",
      "\u001b[0;32m/tmp/ipykernel_10745/2441029227.py\u001b[0m in \u001b[0;36mdemo_shors\u001b[0;34m(a, N, m, n, mults, iters, display)\u001b[0m\n\u001b[1;32m     27\u001b[0m         \u001b[0;31m# Run and time Shor's algorithm to estimate the period of a^x mod N.\u001b[0m\u001b[0;34m\u001b[0m\u001b[0;34m\u001b[0m\u001b[0;34m\u001b[0m\u001b[0m\n\u001b[1;32m     28\u001b[0m         \u001b[0mstart_time\u001b[0m \u001b[0;34m=\u001b[0m \u001b[0mtime\u001b[0m\u001b[0;34m.\u001b[0m\u001b[0mtime\u001b[0m\u001b[0;34m(\u001b[0m\u001b[0;34m)\u001b[0m\u001b[0;34m\u001b[0m\u001b[0;34m\u001b[0m\u001b[0m\n\u001b[0;32m---> 29\u001b[0;31m         \u001b[0mr\u001b[0m \u001b[0;34m=\u001b[0m \u001b[0memulator\u001b[0m\u001b[0;34m.\u001b[0m\u001b[0mshors\u001b[0m\u001b[0;34m(\u001b[0m\u001b[0mN\u001b[0m\u001b[0;34m,\u001b[0m \u001b[0ma\u001b[0m\u001b[0;34m,\u001b[0m \u001b[0mm\u001b[0m\u001b[0;34m,\u001b[0m \u001b[0mn\u001b[0m\u001b[0;34m)\u001b[0m\u001b[0;34m\u001b[0m\u001b[0;34m\u001b[0m\u001b[0m\n\u001b[0m\u001b[1;32m     30\u001b[0m         \u001b[0mtimes\u001b[0m\u001b[0;34m.\u001b[0m\u001b[0mappend\u001b[0m\u001b[0;34m(\u001b[0m\u001b[0mtime\u001b[0m\u001b[0;34m.\u001b[0m\u001b[0mtime\u001b[0m\u001b[0;34m(\u001b[0m\u001b[0;34m)\u001b[0m \u001b[0;34m-\u001b[0m \u001b[0mstart_time\u001b[0m\u001b[0;34m)\u001b[0m\u001b[0;34m\u001b[0m\u001b[0;34m\u001b[0m\u001b[0m\n\u001b[1;32m     31\u001b[0m \u001b[0;34m\u001b[0m\u001b[0m\n",
      "\u001b[0;32m~/Desktop/Github/Emulator/emulator.py\u001b[0m in \u001b[0;36mshors\u001b[0;34m(X, a, m, n)\u001b[0m\n\u001b[1;32m    235\u001b[0m     \u001b[0;32mfor\u001b[0m \u001b[0mi\u001b[0m \u001b[0;32min\u001b[0m \u001b[0mrange\u001b[0m\u001b[0;34m(\u001b[0m\u001b[0;36m0\u001b[0m\u001b[0;34m,\u001b[0m \u001b[0mM\u001b[0m\u001b[0;34m)\u001b[0m\u001b[0;34m:\u001b[0m\u001b[0;34m\u001b[0m\u001b[0;34m\u001b[0m\u001b[0m\n\u001b[1;32m    236\u001b[0m         \u001b[0mmod_exp\u001b[0m \u001b[0;34m=\u001b[0m \u001b[0mpow\u001b[0m\u001b[0;34m(\u001b[0m\u001b[0ma\u001b[0m\u001b[0;34m,\u001b[0m \u001b[0mi\u001b[0m\u001b[0;34m,\u001b[0m \u001b[0mX\u001b[0m\u001b[0;34m)\u001b[0m\u001b[0;34m\u001b[0m\u001b[0;34m\u001b[0m\u001b[0m\n\u001b[0;32m--> 237\u001b[0;31m         \u001b[0msecond\u001b[0m\u001b[0;34m[\u001b[0m\u001b[0mmod_exp\u001b[0m\u001b[0;34m]\u001b[0m \u001b[0;34m+=\u001b[0m \u001b[0;36m1\u001b[0m\u001b[0;34m\u001b[0m\u001b[0;34m\u001b[0m\u001b[0m\n\u001b[0m\u001b[1;32m    238\u001b[0m         \u001b[0mthird\u001b[0m\u001b[0;34m[\u001b[0m\u001b[0mi\u001b[0m\u001b[0;34m]\u001b[0m \u001b[0;34m=\u001b[0m \u001b[0mmod_exp\u001b[0m\u001b[0;34m\u001b[0m\u001b[0;34m\u001b[0m\u001b[0m\n\u001b[1;32m    239\u001b[0m \u001b[0;34m\u001b[0m\u001b[0m\n",
      "\u001b[0;31mKeyboardInterrupt\u001b[0m: "
     ]
    }
   ],
   "source": [
    "# Observe the process in detail for m = 20.\n",
    "m = 20\n",
    "demo_shors(a, N, m, n, iters=100, display=True)"
   ]
  },
  {
   "cell_type": "markdown",
   "metadata": {},
   "source": [
    "### Experiment 1.2: a = 20 (Larger Even Period)"
   ]
  },
  {
   "cell_type": "code",
   "execution_count": null,
   "metadata": {},
   "outputs": [],
   "source": [
    "a = 20\n",
    "\n",
    "# Run Shor's algorithm for various values of m.\n",
    "# We expect to some improvement when m = n,\n",
    "# and above 90% accuracy by the time m = 2n (or before).\n",
    "for m in range(1, 21):\n",
    "    print('m =', m)\n",
    "    demo_shors(a, N, m, n)"
   ]
  },
  {
   "cell_type": "markdown",
   "metadata": {},
   "source": [
    "### Experiment 1.3: a = 37 (Odd Period)"
   ]
  },
  {
   "cell_type": "code",
   "execution_count": null,
   "metadata": {},
   "outputs": [],
   "source": [
    "a = 37\n",
    "\n",
    "# Run Shor's algorithm for various values of m.\n",
    "# We expect to some improvement when m = n,\n",
    "# and above 90% accuracy by the time m = 2n (or before).\n",
    "for m in range(1, 21):\n",
    "    print('m =', m)\n",
    "    demo_shors(a, N, m, n)"
   ]
  },
  {
   "cell_type": "markdown",
   "metadata": {},
   "source": [
    "## Experiment 2: N = 42781"
   ]
  },
  {
   "cell_type": "code",
   "execution_count": null,
   "metadata": {},
   "outputs": [
    {
     "name": "stdout",
     "output_type": "stream",
     "text": [
      "10: 1246\n",
      "22: 1513\n",
      "24: 1246\n",
      "36: 1513\n",
      "38: 1246\n",
      "44: 1246\n",
      "51: 1513\n",
      "67: 1513\n",
      "75: 1513\n",
      "98: 1246\n",
      "100: 623\n",
      "101: 1513\n",
      "139: 1246\n",
      "141: 1246\n",
      "178: 238\n"
     ]
    }
   ],
   "source": [
    "# Define N.\n",
    "N = 179 * 239   # 42781\n",
    "\n",
    "# Solve the problem classically to obtain a reasonable choice of a for this example.\n",
    "for a in range(2, 179):\n",
    "    for i in range(1, 2000):\n",
    "        if (a**i)%N == 1:\n",
    "            print(str(a) + ': ' + str(i))\n",
    "            break"
   ]
  },
  {
   "cell_type": "code",
   "execution_count": null,
   "metadata": {},
   "outputs": [],
   "source": [
    "a = 10  # 10 seems an appropriate choice for a.\n",
    "n = 16  # Again, 2^16 = 65536 > 42781."
   ]
  },
  {
   "cell_type": "code",
   "execution_count": 10,
   "metadata": {},
   "outputs": [
    {
     "name": "stdout",
     "output_type": "stream",
     "text": [
      "m = 1\n",
      "Accuracy:     0.0\n",
      "Average time: 0.0012583355903625487\n",
      "m = 2\n",
      "Accuracy:     0.0\n",
      "Average time: 0.0011813406944274902\n",
      "m = 3\n",
      "Accuracy:     0.0\n",
      "Average time: 0.0011326305866241454\n",
      "m = 4\n",
      "Accuracy:     0.0\n",
      "Average time: 0.001135664463043213\n",
      "m = 5\n",
      "Accuracy:     0.0\n",
      "Average time: 0.0010843122005462647\n",
      "m = 6\n",
      "Accuracy:     0.0\n",
      "Average time: 0.0011460769176483154\n",
      "m = 7\n",
      "Accuracy:     0.0\n",
      "Average time: 0.0012548377513885499\n",
      "m = 8\n",
      "Accuracy:     0.0\n",
      "Average time: 0.0014406991004943847\n",
      "m = 9\n",
      "Accuracy:     0.0\n",
      "Average time: 0.0018825197219848632\n",
      "m = 10\n",
      "Accuracy:     0.0\n",
      "Average time: 0.0031221818923950193\n",
      "m = 11\n",
      "Accuracy:     0.0\n",
      "Average time: 0.004562911748886109\n",
      "m = 12\n",
      "Accuracy:     0.0\n",
      "Average time: 0.008286234378814697\n",
      "m = 13\n",
      "Accuracy:     0.0\n",
      "Average time: 0.015478937149047852\n",
      "m = 14\n",
      "Accuracy:     0.0\n",
      "Average time: 0.030209774494171143\n",
      "m = 15\n",
      "Accuracy:     0.0\n",
      "Average time: 0.06098895812034607\n",
      "m = 16\n",
      "Accuracy:     0.0\n",
      "Average time: 0.12366759872436524\n",
      "m = 17\n",
      "Accuracy:     0.007\n",
      "Average time: 0.25394628787040713\n",
      "m = 18\n",
      "Accuracy:     0.002\n",
      "Average time: 0.523543053150177\n",
      "m = 19\n",
      "Accuracy:     0.016\n",
      "Average time: 1.0753392119407654\n",
      "m = 20\n",
      "Accuracy:     0.04\n",
      "Average time: 2.2005170347690584\n"
     ]
    }
   ],
   "source": [
    "# Run Shor's algorithm for various values of m.\n",
    "# We expect to some improvement when m = n,\n",
    "# and above 90% accuracy by the time m = 2n (or before).\n",
    "for m in range(1, 21):\n",
    "    print('m =', m)\n",
    "    demo_shors(a, N, m, n)"
   ]
  },
  {
   "cell_type": "code",
   "execution_count": null,
   "metadata": {},
   "outputs": [
    {
     "name": "stdout",
     "output_type": "stream",
     "text": [
      "r:22687,\tR:204183,\tj:9,\tGuesses:[239   1],\tPass: False\n",
      "r:26490,\tR:238410,\tj:9,\tGuesses:[1 1],\tPass: False\n",
      "r:20117,\tR:181053,\tj:9,\tGuesses:[1 1],\tPass: False\n",
      "r:27005,\tR:243045,\tj:9,\tGuesses:[1 1],\tPass: False\n",
      "r:40025,\tR:360225,\tj:9,\tGuesses:[1 1],\tPass: False\n",
      "r:24265,\tR:218385,\tj:9,\tGuesses:[1 1],\tPass: False\n",
      "r:42699,\tR:384291,\tj:9,\tGuesses:[1 1],\tPass: False\n",
      "r:28799,\tR:259191,\tj:9,\tGuesses:[1 1],\tPass: False\n",
      "r:40119,\tR:361071,\tj:9,\tGuesses:[1 1],\tPass: False\n",
      "r:38717,\tR:348453,\tj:9,\tGuesses:[239   1],\tPass: False\n",
      "r:30724,\tR:276516,\tj:9,\tGuesses:[1 1],\tPass: False\n",
      "r:5827,\tR:52443,\tj:9,\tGuesses:[1 1],\tPass: False\n",
      "r:20117,\tR:181053,\tj:9,\tGuesses:[1 1],\tPass: False\n",
      "r:23274,\tR:209466,\tj:9,\tGuesses:[1 1],\tPass: False\n",
      "r:30000,\tR:270000,\tj:9,\tGuesses:[1 1],\tPass: False\n",
      "r:1487,\tR:13383,\tj:9,\tGuesses:[1 1],\tPass: False\n",
      "r:27415,\tR:246735,\tj:9,\tGuesses:[1 1],\tPass: False\n",
      "r:22615,\tR:203535,\tj:9,\tGuesses:[1 1],\tPass: False\n",
      "r:24821,\tR:223389,\tj:9,\tGuesses:[1 1],\tPass: False\n",
      "r:36814,\tR:331326,\tj:9,\tGuesses:[1 1],\tPass: False\n",
      "r:25897,\tR:233073,\tj:9,\tGuesses:[1 1],\tPass: False\n",
      "r:37411,\tR:336699,\tj:9,\tGuesses:[1 1],\tPass: False\n",
      "r:7633,\tR:68697,\tj:9,\tGuesses:[1 1],\tPass: False\n",
      "r:14795,\tR:133155,\tj:9,\tGuesses:[1 1],\tPass: False\n",
      "r:40582,\tR:365238,\tj:9,\tGuesses:[1 1],\tPass: False\n",
      "r:36985,\tR:332865,\tj:9,\tGuesses:[1 1],\tPass: False\n",
      "r:17688,\tR:159192,\tj:9,\tGuesses:[1 1],\tPass: False\n",
      "r:42761,\tR:384849,\tj:9,\tGuesses:[1 1],\tPass: False\n",
      "r:9750,\tR:87750,\tj:9,\tGuesses:[1 1],\tPass: False\n",
      "r:39109,\tR:351981,\tj:9,\tGuesses:[239   1],\tPass: False\n",
      "r:13281,\tR:119529,\tj:9,\tGuesses:[1 1],\tPass: False\n",
      "r:42394,\tR:381546,\tj:9,\tGuesses:[1 1],\tPass: False\n",
      "r:13715,\tR:123435,\tj:9,\tGuesses:[1 1],\tPass: False\n",
      "r:4045,\tR:36405,\tj:9,\tGuesses:[1 1],\tPass: False\n",
      "r:12930,\tR:116370,\tj:9,\tGuesses:[1 1],\tPass: False\n",
      "r:33611,\tR:302499,\tj:9,\tGuesses:[1 1],\tPass: False\n",
      "r:42037,\tR:378333,\tj:9,\tGuesses:[1 1],\tPass: False\n",
      "r:13715,\tR:123435,\tj:9,\tGuesses:[1 1],\tPass: False\n",
      "r:20117,\tR:181053,\tj:9,\tGuesses:[1 1],\tPass: False\n",
      "r:26279,\tR:236511,\tj:9,\tGuesses:[1 1],\tPass: False\n",
      "r:42610,\tR:383490,\tj:9,\tGuesses:[1 1],\tPass: False\n",
      "r:623,\tR:1246,\tj:2,\tGuesses:[239 179],\tPass: True\n",
      "r:38497,\tR:346473,\tj:9,\tGuesses:[1 1],\tPass: False\n",
      "r:34085,\tR:306765,\tj:9,\tGuesses:[1 1],\tPass: False\n",
      "r:12930,\tR:116370,\tj:9,\tGuesses:[1 1],\tPass: False\n",
      "r:21737,\tR:195633,\tj:9,\tGuesses:[1 1],\tPass: False\n",
      "r:3590,\tR:32310,\tj:9,\tGuesses:[1 1],\tPass: False\n",
      "r:89,\tR:801,\tj:9,\tGuesses:[179   1],\tPass: False\n",
      "r:4415,\tR:39735,\tj:9,\tGuesses:[1 1],\tPass: False\n",
      "r:41749,\tR:375741,\tj:9,\tGuesses:[1 1],\tPass: False\n",
      "r:30547,\tR:274923,\tj:9,\tGuesses:[1 1],\tPass: False\n",
      "r:40119,\tR:361071,\tj:9,\tGuesses:[1 1],\tPass: False\n",
      "r:26339,\tR:237051,\tj:9,\tGuesses:[1 1],\tPass: False\n",
      "r:39197,\tR:352773,\tj:9,\tGuesses:[1 1],\tPass: False\n",
      "r:9858,\tR:88722,\tj:9,\tGuesses:[1 1],\tPass: False\n",
      "r:42369,\tR:381321,\tj:9,\tGuesses:[1 1],\tPass: False\n",
      "r:12701,\tR:114309,\tj:9,\tGuesses:[1 1],\tPass: False\n",
      "r:41585,\tR:374265,\tj:9,\tGuesses:[1 1],\tPass: False\n",
      "r:16506,\tR:148554,\tj:9,\tGuesses:[239   1],\tPass: False\n",
      "r:42115,\tR:379035,\tj:9,\tGuesses:[1 1],\tPass: False\n",
      "r:27415,\tR:246735,\tj:9,\tGuesses:[1 1],\tPass: False\n",
      "r:33093,\tR:297837,\tj:9,\tGuesses:[1 1],\tPass: False\n",
      "r:7351,\tR:66159,\tj:9,\tGuesses:[1 1],\tPass: False\n",
      "r:16384,\tR:147456,\tj:9,\tGuesses:[1 1],\tPass: False\n",
      "r:16384,\tR:147456,\tj:9,\tGuesses:[1 1],\tPass: False\n",
      "r:22071,\tR:198639,\tj:9,\tGuesses:[239   1],\tPass: False\n",
      "r:33008,\tR:297072,\tj:9,\tGuesses:[1 1],\tPass: False\n",
      "r:40829,\tR:367461,\tj:9,\tGuesses:[1 1],\tPass: False\n",
      "r:28404,\tR:255636,\tj:9,\tGuesses:[1 1],\tPass: False\n",
      "r:32768,\tR:294912,\tj:9,\tGuesses:[1 1],\tPass: False\n",
      "r:42702,\tR:384318,\tj:9,\tGuesses:[1 1],\tPass: False\n",
      "r:42493,\tR:382437,\tj:9,\tGuesses:[1 1],\tPass: False\n",
      "r:40328,\tR:362952,\tj:9,\tGuesses:[1 1],\tPass: False\n",
      "r:28521,\tR:256689,\tj:9,\tGuesses:[1 1],\tPass: False\n",
      "r:41585,\tR:374265,\tj:9,\tGuesses:[1 1],\tPass: False\n",
      "r:32768,\tR:294912,\tj:9,\tGuesses:[1 1],\tPass: False\n",
      "r:8869,\tR:79821,\tj:9,\tGuesses:[239   1],\tPass: False\n",
      "r:42710,\tR:384390,\tj:9,\tGuesses:[1 1],\tPass: False\n",
      "r:12930,\tR:116370,\tj:9,\tGuesses:[1 1],\tPass: False\n",
      "r:29588,\tR:266292,\tj:9,\tGuesses:[1 1],\tPass: False\n",
      "r:31624,\tR:284616,\tj:9,\tGuesses:[1 1],\tPass: False\n",
      "r:23119,\tR:208071,\tj:9,\tGuesses:[1 1],\tPass: False\n",
      "r:42493,\tR:382437,\tj:9,\tGuesses:[1 1],\tPass: False\n",
      "r:33008,\tR:297072,\tj:9,\tGuesses:[1 1],\tPass: False\n",
      "r:22053,\tR:198477,\tj:9,\tGuesses:[1 1],\tPass: False\n",
      "r:22799,\tR:205191,\tj:9,\tGuesses:[239   1],\tPass: False\n",
      "r:42493,\tR:382437,\tj:9,\tGuesses:[1 1],\tPass: False\n",
      "r:18407,\tR:165663,\tj:9,\tGuesses:[1 1],\tPass: False\n",
      "r:15576,\tR:140184,\tj:9,\tGuesses:[1 1],\tPass: False\n",
      "r:89,\tR:801,\tj:9,\tGuesses:[179   1],\tPass: False\n",
      "r:28329,\tR:254961,\tj:9,\tGuesses:[239   1],\tPass: False\n",
      "r:30629,\tR:275661,\tj:9,\tGuesses:[1 1],\tPass: False\n",
      "r:29866,\tR:268794,\tj:9,\tGuesses:[1 1],\tPass: False\n",
      "r:41605,\tR:374445,\tj:9,\tGuesses:[1 1],\tPass: False\n",
      "r:14318,\tR:128862,\tj:9,\tGuesses:[1 1],\tPass: False\n",
      "r:17013,\tR:153117,\tj:9,\tGuesses:[1 1],\tPass: False\n",
      "r:29588,\tR:266292,\tj:9,\tGuesses:[1 1],\tPass: False\n",
      "r:26339,\tR:237051,\tj:9,\tGuesses:[1 1],\tPass: False\n",
      "r:38879,\tR:349911,\tj:9,\tGuesses:[1 1],\tPass: False\n",
      "r:13619,\tR:122571,\tj:9,\tGuesses:[1 1],\tPass: False\n",
      "Accuracy:     0.01\n",
      "Average time: 2.556960759162903\n"
     ]
    }
   ],
   "source": [
    "# Observe the process in detail for m = 20.\n",
    "m = 20\n",
    "demo_shors(a, N, m, n, iters=100, display=True)"
   ]
  }
 ],
 "metadata": {
  "interpreter": {
   "hash": "5eb68a48e29e152e025f867c1d7c98b8bbea850c19dcdd55ec2ecec0f79d9b55"
  },
  "kernelspec": {
   "display_name": "Python 3 (ipykernel)",
   "language": "python",
   "name": "python3"
  },
  "language_info": {
   "codemirror_mode": {
    "name": "ipython",
    "version": 3
   },
   "file_extension": ".py",
   "mimetype": "text/x-python",
   "name": "python",
   "nbconvert_exporter": "python",
   "pygments_lexer": "ipython3",
   "version": "3.8.12"
  }
 },
 "nbformat": 4,
 "nbformat_minor": 2
}
