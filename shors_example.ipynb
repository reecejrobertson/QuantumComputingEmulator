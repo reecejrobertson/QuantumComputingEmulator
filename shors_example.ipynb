{
 "cells": [
  {
   "cell_type": "markdown",
   "metadata": {},
   "source": [
    "# Examples of Shor's Algorithm"
   ]
  },
  {
   "cell_type": "code",
   "execution_count": 1,
   "metadata": {},
   "outputs": [],
   "source": [
    "import time\n",
    "import emulator"
   ]
  },
  {
   "cell_type": "code",
   "execution_count": 2,
   "metadata": {},
   "outputs": [],
   "source": [
    "def demo_shors(a, N, m, n, iters=1000, ws='', display=False):\n",
    "    times = []\n",
    "    accuracy = 0\n",
    "    for i in range(iters):\n",
    "        start_time = time.time()\n",
    "        guesses = emulator.shors(N, a, m, n)\n",
    "        times.append(time.time() - start_time)\n",
    "        if (len(guesses) > 1):\n",
    "            if (guesses[0] != 1 and N % guesses[0] == 0):\n",
    "                accuracy += 1\n",
    "            elif (guesses[1] != 1 and N % guesses[1] == 0):\n",
    "                accuracy += 1\n",
    "        if display == True:\n",
    "            print('Guesses: ' + str(guesses) + ';' + ws + '\\t ' + str(N) + '/' + str(guesses[0]) + ' = ' + str(N/guesses[0]))\n",
    "    \n",
    "    print('Accuracy:   ', accuracy/iters)\n",
    "    print('Average time:', sum(times)/iters)"
   ]
  },
  {
   "cell_type": "markdown",
   "metadata": {},
   "source": [
    "## a = 7, N = 15"
   ]
  },
  {
   "cell_type": "code",
   "execution_count": 3,
   "metadata": {},
   "outputs": [
    {
     "name": "stdout",
     "output_type": "stream",
     "text": [
      "Accuracy:    0.741\n",
      "Average time: 0.0009121232032775879\n"
     ]
    }
   ],
   "source": [
    "demo_shors(7, 15, 8, 4)"
   ]
  },
  {
   "cell_type": "markdown",
   "metadata": {},
   "source": [
    "## a = 13, N = 35"
   ]
  },
  {
   "cell_type": "code",
   "execution_count": 4,
   "metadata": {},
   "outputs": [
    {
     "name": "stdout",
     "output_type": "stream",
     "text": [
      "Accuracy:    0.753\n",
      "Average time: 0.0008896949291229248\n"
     ]
    }
   ],
   "source": [
    "demo_shors(13, 35, 8, 5)"
   ]
  },
  {
   "cell_type": "markdown",
   "metadata": {},
   "source": [
    "## a = 200, N = 8509"
   ]
  },
  {
   "cell_type": "code",
   "execution_count": 5,
   "metadata": {},
   "outputs": [
    {
     "name": "stdout",
     "output_type": "stream",
     "text": [
      "i = 1\n",
      "Accuracy:    0.52\n",
      "Average time: 0.000649399757385254\n",
      "i = 2\n",
      "Accuracy:    0.757\n",
      "Average time: 0.0006517264842987061\n",
      "i = 3\n",
      "Accuracy:    0.897\n",
      "Average time: 0.000666450023651123\n",
      "i = 4\n",
      "Accuracy:    0.939\n",
      "Average time: 0.0006603355407714844\n",
      "i = 5\n",
      "Accuracy:    0.972\n",
      "Average time: 0.0007013781070709229\n",
      "i = 6\n",
      "Accuracy:    0.97\n",
      "Average time: 0.0008389720916748047\n",
      "i = 7\n",
      "Accuracy:    0.979\n",
      "Average time: 0.0009982681274414062\n",
      "i = 8\n",
      "Accuracy:    0.974\n",
      "Average time: 0.0010599722862243651\n",
      "i = 9\n",
      "Accuracy:    0.971\n",
      "Average time: 0.0011411514282226563\n",
      "i = 10\n",
      "Accuracy:    0.974\n",
      "Average time: 0.001961341619491577\n",
      "i = 11\n",
      "Accuracy:    0.988\n",
      "Average time: 0.0035307135581970216\n",
      "i = 12\n",
      "Accuracy:    0.973\n",
      "Average time: 0.0067923393249511715\n",
      "i = 13\n",
      "Accuracy:    0.976\n",
      "Average time: 0.013501335620880127\n",
      "i = 14\n",
      "Accuracy:    0.479\n",
      "Average time: 0.027540366649627685\n"
     ]
    }
   ],
   "source": [
    "N =  67 * 127\n",
    "for i in range(1, 15):\n",
    "    print('i =', i)\n",
    "    demo_shors(200, N, i, 14, ws='   ')"
   ]
  },
  {
   "cell_type": "code",
   "execution_count": 6,
   "metadata": {},
   "outputs": [
    {
     "name": "stdout",
     "output_type": "stream",
     "text": [
      "Guesses: [ 1 67];   \t 8509/1 = 8509.0\n",
      "Guesses: [ 1 67];   \t 8509/1 = 8509.0\n",
      "Guesses: [1];   \t 8509/1 = 8509.0\n",
      "Guesses: [1];   \t 8509/1 = 8509.0\n",
      "Guesses: [ 1 67];   \t 8509/1 = 8509.0\n",
      "Guesses: [1];   \t 8509/1 = 8509.0\n",
      "Guesses: [1];   \t 8509/1 = 8509.0\n",
      "Guesses: [ 1 67];   \t 8509/1 = 8509.0\n",
      "Guesses: [ 1 67];   \t 8509/1 = 8509.0\n",
      "Guesses: [1];   \t 8509/1 = 8509.0\n",
      "Guesses: [1];   \t 8509/1 = 8509.0\n",
      "Guesses: [1];   \t 8509/1 = 8509.0\n",
      "Guesses: [ 1 67];   \t 8509/1 = 8509.0\n",
      "Guesses: [1];   \t 8509/1 = 8509.0\n",
      "Guesses: [ 1 67];   \t 8509/1 = 8509.0\n",
      "Guesses: [1];   \t 8509/1 = 8509.0\n",
      "Guesses: [1];   \t 8509/1 = 8509.0\n",
      "Guesses: [ 1 67];   \t 8509/1 = 8509.0\n",
      "Guesses: [1];   \t 8509/1 = 8509.0\n",
      "Guesses: [ 1 67];   \t 8509/1 = 8509.0\n",
      "Guesses: [ 1 67];   \t 8509/1 = 8509.0\n",
      "Guesses: [1];   \t 8509/1 = 8509.0\n",
      "Guesses: [ 1 67];   \t 8509/1 = 8509.0\n",
      "Guesses: [1];   \t 8509/1 = 8509.0\n",
      "Guesses: [1];   \t 8509/1 = 8509.0\n",
      "Guesses: [1];   \t 8509/1 = 8509.0\n",
      "Guesses: [ 1 67];   \t 8509/1 = 8509.0\n",
      "Guesses: [ 1 67];   \t 8509/1 = 8509.0\n",
      "Guesses: [1];   \t 8509/1 = 8509.0\n",
      "Guesses: [1];   \t 8509/1 = 8509.0\n",
      "Guesses: [ 1 67];   \t 8509/1 = 8509.0\n",
      "Guesses: [1];   \t 8509/1 = 8509.0\n",
      "Guesses: [1];   \t 8509/1 = 8509.0\n",
      "Guesses: [ 1 67];   \t 8509/1 = 8509.0\n",
      "Guesses: [1];   \t 8509/1 = 8509.0\n",
      "Guesses: [ 1 67];   \t 8509/1 = 8509.0\n",
      "Guesses: [1];   \t 8509/1 = 8509.0\n",
      "Guesses: [1];   \t 8509/1 = 8509.0\n",
      "Guesses: [1];   \t 8509/1 = 8509.0\n",
      "Guesses: [1];   \t 8509/1 = 8509.0\n",
      "Guesses: [1];   \t 8509/1 = 8509.0\n",
      "Guesses: [ 1 67];   \t 8509/1 = 8509.0\n",
      "Guesses: [ 1 67];   \t 8509/1 = 8509.0\n",
      "Guesses: [ 1 67];   \t 8509/1 = 8509.0\n",
      "Guesses: [ 1 67];   \t 8509/1 = 8509.0\n",
      "Guesses: [1];   \t 8509/1 = 8509.0\n",
      "Guesses: [ 1 67];   \t 8509/1 = 8509.0\n",
      "Guesses: [1];   \t 8509/1 = 8509.0\n",
      "Guesses: [1];   \t 8509/1 = 8509.0\n",
      "Guesses: [ 1 67];   \t 8509/1 = 8509.0\n",
      "Guesses: [ 1 67];   \t 8509/1 = 8509.0\n",
      "Guesses: [ 1 67];   \t 8509/1 = 8509.0\n",
      "Guesses: [1];   \t 8509/1 = 8509.0\n",
      "Guesses: [1];   \t 8509/1 = 8509.0\n",
      "Guesses: [1];   \t 8509/1 = 8509.0\n",
      "Guesses: [1];   \t 8509/1 = 8509.0\n",
      "Guesses: [1];   \t 8509/1 = 8509.0\n",
      "Guesses: [1];   \t 8509/1 = 8509.0\n",
      "Guesses: [1];   \t 8509/1 = 8509.0\n",
      "Guesses: [ 1 67];   \t 8509/1 = 8509.0\n",
      "Guesses: [ 1 67];   \t 8509/1 = 8509.0\n",
      "Guesses: [ 1 67];   \t 8509/1 = 8509.0\n",
      "Guesses: [1];   \t 8509/1 = 8509.0\n",
      "Guesses: [ 1 67];   \t 8509/1 = 8509.0\n",
      "Guesses: [1];   \t 8509/1 = 8509.0\n",
      "Guesses: [ 1 67];   \t 8509/1 = 8509.0\n",
      "Guesses: [1];   \t 8509/1 = 8509.0\n",
      "Guesses: [ 1 67];   \t 8509/1 = 8509.0\n",
      "Guesses: [1];   \t 8509/1 = 8509.0\n",
      "Guesses: [ 1 67];   \t 8509/1 = 8509.0\n",
      "Guesses: [1];   \t 8509/1 = 8509.0\n",
      "Guesses: [ 1 67];   \t 8509/1 = 8509.0\n",
      "Guesses: [ 1 67];   \t 8509/1 = 8509.0\n",
      "Guesses: [1];   \t 8509/1 = 8509.0\n",
      "Guesses: [1];   \t 8509/1 = 8509.0\n",
      "Guesses: [ 1 67];   \t 8509/1 = 8509.0\n",
      "Guesses: [ 1 67];   \t 8509/1 = 8509.0\n",
      "Guesses: [1];   \t 8509/1 = 8509.0\n",
      "Guesses: [ 1 67];   \t 8509/1 = 8509.0\n",
      "Guesses: [ 1 67];   \t 8509/1 = 8509.0\n",
      "Guesses: [ 1 67];   \t 8509/1 = 8509.0\n",
      "Guesses: [ 1 67];   \t 8509/1 = 8509.0\n",
      "Guesses: [ 1 67];   \t 8509/1 = 8509.0\n",
      "Guesses: [ 1 67];   \t 8509/1 = 8509.0\n",
      "Guesses: [1];   \t 8509/1 = 8509.0\n",
      "Guesses: [1];   \t 8509/1 = 8509.0\n",
      "Guesses: [ 1 67];   \t 8509/1 = 8509.0\n",
      "Guesses: [ 1 67];   \t 8509/1 = 8509.0\n",
      "Guesses: [ 1 67];   \t 8509/1 = 8509.0\n",
      "Guesses: [1];   \t 8509/1 = 8509.0\n",
      "Guesses: [1];   \t 8509/1 = 8509.0\n",
      "Guesses: [ 1 67];   \t 8509/1 = 8509.0\n",
      "Guesses: [1];   \t 8509/1 = 8509.0\n",
      "Guesses: [1];   \t 8509/1 = 8509.0\n",
      "Guesses: [1];   \t 8509/1 = 8509.0\n",
      "Guesses: [ 1 67];   \t 8509/1 = 8509.0\n",
      "Guesses: [1];   \t 8509/1 = 8509.0\n",
      "Guesses: [1];   \t 8509/1 = 8509.0\n",
      "Guesses: [1];   \t 8509/1 = 8509.0\n",
      "Guesses: [1];   \t 8509/1 = 8509.0\n",
      "Accuracy:    0.46\n",
      "Average time: 0.0005031180381774902\n"
     ]
    }
   ],
   "source": [
    "N =  67 * 127\n",
    "demo_shors(200, N, 1, 14, iters=100, ws='   ', display=True)"
   ]
  }
 ],
 "metadata": {
  "interpreter": {
   "hash": "5eb68a48e29e152e025f867c1d7c98b8bbea850c19dcdd55ec2ecec0f79d9b55"
  },
  "kernelspec": {
   "display_name": "Python 3.8.12 ('base')",
   "language": "python",
   "name": "python3"
  },
  "language_info": {
   "codemirror_mode": {
    "name": "ipython",
    "version": 3
   },
   "file_extension": ".py",
   "mimetype": "text/x-python",
   "name": "python",
   "nbconvert_exporter": "python",
   "pygments_lexer": "ipython3",
   "version": "3.8.12"
  },
  "orig_nbformat": 4
 },
 "nbformat": 4,
 "nbformat_minor": 2
}
